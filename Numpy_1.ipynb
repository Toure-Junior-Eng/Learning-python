{
 "cells": [
  {
   "cell_type": "markdown",
   "id": "c53f0ef6-5ae5-49c4-b46e-586f3e1c0032",
   "metadata": {},
   "source": [
    "Numpy is the fundamentale package for numeric computing with python. it provides powerful ways to create, store, and/or manipulate data,which makes it able to seamlessly and speedly integrate with a wide variety of databases. this is also the foundation that pandas is built on. Which is a high-performance data-centric package\n",
    "\n",
    "**We will talk about creating array with certain data typpes, manipulating array,selecting elements from arrays, and loading  dataset into array Such functions are useful for manipulating data and understanding the functionalities of other common data packages**"
   ]
  },
  {
   "cell_type": "code",
   "execution_count": 10,
   "id": "57fb5331-b8ae-4715-81a2-cdf8079ae500",
   "metadata": {
    "tags": []
   },
   "outputs": [],
   "source": [
    "# we import a library using the 'import' keyword as numpy's common abbreviation is np\n",
    "\n",
    "import numpy as np\n",
    "import math"
   ]
  },
  {
   "cell_type": "markdown",
   "id": "1b2f80f4-5764-4817-8573-de46ea02d02c",
   "metadata": {},
   "source": [
    "## **Array creation** ##"
   ]
  },
  {
   "cell_type": "code",
   "execution_count": 11,
   "id": "23ae0743-0e68-407c-b3f4-ace0644c17a2",
   "metadata": {
    "tags": []
   },
   "outputs": [
    {
     "name": "stdout",
     "output_type": "stream",
     "text": [
      "[1 2 3]\n",
      "1\n"
     ]
    }
   ],
   "source": [
    "# Array are displayed as list of lists and can be created through list as well. \n",
    "# when creationg an array, we pass in a list as an argument in numpy array\n",
    "\n",
    "a = np.array([1,2,3])\n",
    "print(a)\n",
    "# we can print the number of dimensions of list using the ndim attribute\n",
    "print(a.ndim)"
   ]
  },
  {
   "cell_type": "code",
   "execution_count": 12,
   "id": "4f2dfd54-b47e-4294-8798-d040435abd71",
   "metadata": {
    "tags": []
   },
   "outputs": [
    {
     "data": {
      "text/plain": [
       "array([[7, 9, 6],\n",
       "       [2, 5, 8]])"
      ]
     },
     "execution_count": 12,
     "metadata": {},
     "output_type": "execute_result"
    }
   ],
   "source": [
    "# if we pass in list of lists in numpy array, we create a multi-dimensional array, \n",
    "# for instance, a matrix\n",
    "\n",
    "b = np.array([[7,9,6],[2,5,8]])\n",
    "b\n"
   ]
  },
  {
   "cell_type": "code",
   "execution_count": 13,
   "id": "c36f96c7-73ef-4cce-a8dc-290aae80b3c9",
   "metadata": {
    "tags": []
   },
   "outputs": [
    {
     "data": {
      "text/plain": [
       "(2, 3)"
      ]
     },
     "execution_count": 13,
     "metadata": {},
     "output_type": "execute_result"
    }
   ],
   "source": [
    "# we can also print out the length of each dimension by calling the shape attribute,\n",
    "# which return a tuble\n",
    "\n",
    "b.shape"
   ]
  },
  {
   "cell_type": "code",
   "execution_count": 14,
   "id": "21c5a7a7-d6d2-43fe-9bb8-37ab3c4a6e3b",
   "metadata": {
    "tags": []
   },
   "outputs": [
    {
     "data": {
      "text/plain": [
       "dtype('int32')"
      ]
     },
     "execution_count": 14,
     "metadata": {},
     "output_type": "execute_result"
    }
   ],
   "source": [
    "# we can also check the type of items in the array\n",
    "a.dtype"
   ]
  },
  {
   "cell_type": "code",
   "execution_count": 15,
   "id": "a85de1f6-f4c6-4295-b824-c81186d0fa75",
   "metadata": {
    "tags": []
   },
   "outputs": [
    {
     "data": {
      "text/plain": [
       "dtype('int32')"
      ]
     },
     "execution_count": 15,
     "metadata": {},
     "output_type": "execute_result"
    }
   ],
   "source": [
    "b.dtype"
   ]
  },
  {
   "cell_type": "code",
   "execution_count": 16,
   "id": "4d207dff-9311-4304-b3a4-2a0291db2789",
   "metadata": {
    "tags": []
   },
   "outputs": [
    {
     "name": "stdout",
     "output_type": "stream",
     "text": [
      "[[0. 0. 0.]\n",
      " [0. 0. 0.]]\n",
      "[[1. 1. 1.]\n",
      " [1. 1. 1.]]\n"
     ]
    }
   ],
   "source": [
    "# let create two arrays, both the same shape but with different filler values\n",
    "\n",
    "d = np.zeros((2,3))\n",
    "print(d)\n",
    "\n",
    "e = np.ones((2,3))\n",
    "print(e)"
   ]
  },
  {
   "cell_type": "code",
   "execution_count": 17,
   "id": "9eea7901-de0c-4881-b1a9-6e6847d0a7bb",
   "metadata": {
    "tags": []
   },
   "outputs": [
    {
     "data": {
      "text/plain": [
       "array([[0.70371479, 0.07143526, 0.01187388],\n",
       "       [0.08762174, 0.74947672, 0.66689075]])"
      ]
     },
     "execution_count": 17,
     "metadata": {},
     "output_type": "execute_result"
    }
   ],
   "source": [
    "# we can also generate an array with random numbers\n",
    "np.random.rand(2,3)"
   ]
  },
  {
   "cell_type": "code",
   "execution_count": 18,
   "id": "51d4bf78-0741-4d83-9810-03ea72cd2c20",
   "metadata": {
    "tags": []
   },
   "outputs": [],
   "source": [
    "# you'll see zeros, ones,and rand used quite often to create example arrays\n",
    "# especially in stack overflow posts and other forums. "
   ]
  },
  {
   "cell_type": "code",
   "execution_count": 19,
   "id": "f370e622-b294-46ea-a0e1-ad57ec704425",
   "metadata": {
    "tags": []
   },
   "outputs": [
    {
     "data": {
      "text/plain": [
       "array([10, 12, 14, 16, 18, 20, 22, 24, 26, 28, 30, 32, 34, 36, 38, 40, 42,\n",
       "       44, 46, 48])"
      ]
     },
     "execution_count": 19,
     "metadata": {},
     "output_type": "execute_result"
    }
   ],
   "source": [
    "# let's creat an array of every even number from ten (inclusive) to fifty (exclusive)\n",
    "f = np.arange(10,50,2)\n",
    "f"
   ]
  },
  {
   "cell_type": "code",
   "execution_count": 20,
   "id": "aead1f34-0f7a-4458-8a69-e468890a3252",
   "metadata": {
    "tags": []
   },
   "outputs": [
    {
     "data": {
      "text/plain": [
       "array([0.        , 0.14285714, 0.28571429, 0.42857143, 0.57142857,\n",
       "       0.71428571, 0.85714286, 1.        , 1.14285714, 1.28571429,\n",
       "       1.42857143, 1.57142857, 1.71428571, 1.85714286, 2.        ])"
      ]
     },
     "execution_count": 20,
     "metadata": {},
     "output_type": "execute_result"
    }
   ],
   "source": [
    "# if we want to generate a sequence of floats, we can use linspace() function. \n",
    "# In this function the third argument 1 \n",
    "\n",
    "np.linspace(0,2,15) # 15 numbers from 0 (inclusive) to 2 (inclusive)"
   ]
  },
  {
   "cell_type": "markdown",
   "id": "2c384e99-80ab-49a6-b9d5-0a30ed6135ab",
   "metadata": {},
   "source": [
    "## Array Operations ##"
   ]
  },
  {
   "cell_type": "code",
   "execution_count": 21,
   "id": "4fa38e18-670b-400f-816e-257e41231f75",
   "metadata": {
    "tags": []
   },
   "outputs": [],
   "source": [
    "# we can do many things on arrays, such as mathematical (addition,substraction, square)\n",
    "# as well as use boolean arrays, which are binary  values. we can also do matrix \n",
    "# manipulation such as pruduct, transpose, inverse, and so forth."
   ]
  },
  {
   "cell_type": "code",
   "execution_count": 22,
   "id": "c9c5a7b7-3728-4e1f-8f24-dd073c8c7cd9",
   "metadata": {
    "tags": []
   },
   "outputs": [
    {
     "name": "stdout",
     "output_type": "stream",
     "text": [
      "[ 9 18 27 36]\n",
      "[ 10  40  90 160]\n"
     ]
    }
   ],
   "source": [
    "# arithmethic operators on array apply elementwise.\n",
    "# let's creat a couple of arrays\n",
    "a = np.array([10,20,30,40])\n",
    "b = np.array([1,2,3,4])\n",
    "\n",
    "# now let look at a minus b \n",
    "c = a-b\n",
    "print(c)\n",
    "\n",
    "# and let's look at a time b\n",
    "d = a*b\n",
    "print(d)"
   ]
  },
  {
   "cell_type": "code",
   "execution_count": 23,
   "id": "ef971de6-4859-47a2-ae6b-69de6a4e35a4",
   "metadata": {
    "tags": []
   },
   "outputs": [
    {
     "data": {
      "text/plain": [
       "array([-57.6, -66.6, -84.6, -57.6])"
      ]
     },
     "execution_count": 23,
     "metadata": {},
     "output_type": "execute_result"
    }
   ],
   "source": [
    "# with arithmetic manipulation, we can convert current data to the way we want it to be.\n",
    "# here is the real word problem we face. in canada we use celsius for temperatures, and my wife \n",
    "# still hasn't convert to the US system which uses farenheit. with numpy\n",
    "# i could easily convert a number of farenheit values, say the weather forecase, to celcius\n",
    "\n",
    "# Let's create an array of typical Ann Arbor winter farenheit values\n",
    "farenheit = np.array([0,-5,-15,0])\n",
    "\n",
    "# and the formula for conversion is ((F - 32)*5/9) = C\n",
    "celcius = (farenheit-32)/(5/9)\n",
    "celcius"
   ]
  },
  {
   "cell_type": "code",
   "execution_count": 24,
   "id": "54053a00-82fb-414f-99a8-c5564b4ba26c",
   "metadata": {
    "tags": []
   },
   "outputs": [
    {
     "data": {
      "text/plain": [
       "array([ True, False, False,  True])"
      ]
     },
     "execution_count": 24,
     "metadata": {},
     "output_type": "execute_result"
    }
   ],
   "source": [
    "# another useful and important manipulation is the bolean array. we can apply an operation\n",
    "# on an array, and a boolean array will be returned for any element in the original,\n",
    "# with true being emitted if it meets the condition for instance, if we want to get a boolean\n",
    "# array to check celsius degrees that are greater than - 20 degree\n",
    "\n",
    "celcius > -57.6"
   ]
  },
  {
   "cell_type": "code",
   "execution_count": 25,
   "id": "77ecf27e-5dcd-473b-ae4f-3be9b0ec91b0",
   "metadata": {
    "tags": []
   },
   "outputs": [
    {
     "name": "stdout",
     "output_type": "stream",
     "text": [
      "[[2 0]\n",
      " [0 4]]\n",
      "[[5 4]\n",
      " [3 4]]\n"
     ]
    }
   ],
   "source": [
    "# brsides elements manipulation, it is important to know that numpy supports matrix manipulation.\n",
    "# let's look at matrix product. if we want to do elementwise product, we use the \"*\" sign\n",
    "\n",
    "A = np.array([[1,1],[0,1]]) \n",
    "B = np.array ([[2,0],[3,4]])\n",
    "print(A*B)\n",
    "\n",
    "# if we want to do matrix produc, we use the \"@\" sign or use the dot function\n",
    "print(A@B)"
   ]
  },
  {
   "cell_type": "code",
   "execution_count": 26,
   "id": "9c944b63-63dc-4dd7-87a1-0ade122ceec8",
   "metadata": {
    "tags": []
   },
   "outputs": [
    {
     "data": {
      "text/plain": [
       "(2, 2)"
      ]
     },
     "execution_count": 26,
     "metadata": {},
     "output_type": "execute_result"
    }
   ],
   "source": [
    "# a few more linear algebra concepts are worth layering in here. you might recall \n",
    "# that the product of two matrices is only possible when the inner dimensions of the \n",
    "# two matrices are the same. the dimensions refer to the number of elements both \n",
    "# horizontal and vertical in the rendered matricies, we can use numpy to quickly see\n",
    "# the shape of a matrix:\n",
    "A.shape"
   ]
  },
  {
   "cell_type": "code",
   "execution_count": 27,
   "id": "940461c7-cd8e-4960-aced-0c5bc0eec34d",
   "metadata": {
    "tags": []
   },
   "outputs": [
    {
     "name": "stdout",
     "output_type": "stream",
     "text": [
      "int32\n",
      "float64\n"
     ]
    }
   ],
   "source": [
    "# when manipulating arrays of different types, the type of the resulting array correspond\n",
    "# to the more general of the two types. this is called upcasting.\n",
    "\n",
    "# let's create an array of integers\n",
    "array1 = np.array([[1,2,3],[4,5,6]])\n",
    "print(array1.dtype)\n",
    "\n",
    "# now let's creat an array of floats\n",
    "array2 = np.array([[7.1,8.2,9.1],[10.4,11.2,12.3]])\n",
    "print(array2.dtype)"
   ]
  },
  {
   "cell_type": "code",
   "execution_count": 28,
   "id": "61d665a2-fc76-4eca-b9dd-3ff738e36f21",
   "metadata": {
    "tags": []
   },
   "outputs": [],
   "source": [
    "# intergers (int) are whole numbers only, and floating point numbers(float) can have \n",
    "# a whole number portion and a decimal portion. the 64 in this example refers to the \n",
    "# number of bits that the operating system is reserving to represent the number,\n",
    "# which determines the sizes (or precision) of the numbers that can be represent"
   ]
  },
  {
   "cell_type": "code",
   "execution_count": 29,
   "id": "ea720ca7-79ed-4410-8f57-e93c504f0e7b",
   "metadata": {
    "tags": []
   },
   "outputs": [
    {
     "name": "stdout",
     "output_type": "stream",
     "text": [
      "[[ 8.1 10.2 12.1]\n",
      " [14.4 16.2 18.3]]\n",
      "float64\n"
     ]
    }
   ],
   "source": [
    "# let's do an addition for the two arrays\n",
    "array3 = array1 + array2\n",
    "print(array3)\n",
    "print(array3.dtype)"
   ]
  },
  {
   "cell_type": "code",
   "execution_count": 30,
   "id": "77a60c70-4c6f-4c90-b7dd-bb83ac33eee6",
   "metadata": {
    "tags": []
   },
   "outputs": [],
   "source": [
    "# notice how the items in the resulting array have been upcast in floating point numbers"
   ]
  },
  {
   "cell_type": "code",
   "execution_count": 31,
   "id": "8b3f1737-02b7-46ce-9579-585c38fc2cb2",
   "metadata": {
    "tags": []
   },
   "outputs": [
    {
     "name": "stdout",
     "output_type": "stream",
     "text": [
      "79.3\n",
      "18.3\n",
      "8.1\n",
      "13.216666666666667\n"
     ]
    }
   ],
   "source": [
    "# numpy arrays have may interesting aggregation functions on them, such as\n",
    "# sum(), max(), min(), and mean()\n",
    "print(array3.sum())\n",
    "print(array3.max())\n",
    "print(array3.min())\n",
    "print(array3.mean())"
   ]
  },
  {
   "cell_type": "code",
   "execution_count": 32,
   "id": "0646d1bd-d1af-47a2-b9b0-0fe6f0bfa713",
   "metadata": {
    "tags": []
   },
   "outputs": [
    {
     "name": "stdout",
     "output_type": "stream",
     "text": [
      "[[ 1  2  3  4  5]\n",
      " [ 6  7  8  9 10]\n",
      " [11 12 13 14 15]]\n"
     ]
    }
   ],
   "source": [
    "# for two dimensional array, we can do the same thing for each row or column\n",
    "# let's creat an array with 15 elements, ranging from 1 to 15\n",
    "# with a dimension of 3*5\n",
    "b = np.arange(1,16,1).reshape(3,5)\n",
    "print(b)"
   ]
  },
  {
   "cell_type": "code",
   "execution_count": 33,
   "id": "9af6a361-a3c7-4c15-b3c4-7adb5fb298c9",
   "metadata": {
    "tags": []
   },
   "outputs": [],
   "source": [
    "# now , we often think about two dimensional arrays, being made up of rows and columns,\n",
    "# but you can also think of these arrays as just a giant ordered list of numbers, and the \n",
    "# *shape* of the array, the number of rows and colums, is just an abstraction that we have \n",
    "# for a particular purpose. Actually, this is exactly how \n",
    "\n",
    "# let's take a look at an example and see how numpy comes into play."
   ]
  },
  {
   "cell_type": "markdown",
   "id": "5fe12090-b42f-432a-bf63-a6d8d144e391",
   "metadata": {
    "tags": []
   },
   "source": [
    "## Indexing, Slicing and Iterating ##"
   ]
  },
  {
   "cell_type": "code",
   "execution_count": 34,
   "id": "85a864b0-1e94-4e4e-b891-3aa35d5b1859",
   "metadata": {
    "tags": []
   },
   "outputs": [],
   "source": [
    "# indexing ,slicing and iterating are extremely import for data manipulation and analyse\n",
    "# because these techniques allow us to select data based on conditions, and copy or update data"
   ]
  },
  {
   "cell_type": "markdown",
   "id": "3db7d73a-4ce3-4bdf-b0b1-16893303a93e",
   "metadata": {},
   "source": [
    "**Indexing**"
   ]
  },
  {
   "cell_type": "code",
   "execution_count": 35,
   "id": "73522998-535f-4a5f-94d1-152a19982c0a",
   "metadata": {
    "tags": []
   },
   "outputs": [
    {
     "data": {
      "text/plain": [
       "array([1, 3, 5, 7])"
      ]
     },
     "execution_count": 35,
     "metadata": {},
     "output_type": "execute_result"
    }
   ],
   "source": [
    "# first we are going to look at indexing, a one-dimensional array, works in similar \n",
    "# ways as a list to get an element in a one-dimensional array, we simply use the offset index\n",
    "\n",
    "a = np.array([1,3,5,7])\n",
    "a"
   ]
  },
  {
   "cell_type": "code",
   "execution_count": 36,
   "id": "5cf1a619-88bb-4962-8db0-28f7760daeb4",
   "metadata": {
    "tags": []
   },
   "outputs": [
    {
     "data": {
      "text/plain": [
       "array([[1, 2],\n",
       "       [3, 4],\n",
       "       [5, 6]])"
      ]
     },
     "execution_count": 36,
     "metadata": {},
     "output_type": "execute_result"
    }
   ],
   "source": [
    "# for multidimensional array, we need to use integer array indexing, let's creat a \n",
    "# new multidimensional array\n",
    "a = np.array([[1,2],[3,4],[5,6]])\n",
    "a"
   ]
  },
  {
   "cell_type": "code",
   "execution_count": 37,
   "id": "2a5ac115-36b6-4795-b456-9f2582c2cf5a",
   "metadata": {
    "tags": []
   },
   "outputs": [
    {
     "data": {
      "text/plain": [
       "4"
      ]
     },
     "execution_count": 37,
     "metadata": {},
     "output_type": "execute_result"
    }
   ],
   "source": [
    "# if we want to select one certain element, we can do so by entering the index, which\n",
    "# is comprised of two intergers the first being the row, and the second the column\n",
    "\n",
    "a[1,1] # remember in python we start at 0!"
   ]
  },
  {
   "cell_type": "code",
   "execution_count": 38,
   "id": "ec759cca-4e13-4235-8a2d-3e9ba98abaf3",
   "metadata": {
    "tags": []
   },
   "outputs": [
    {
     "data": {
      "text/plain": [
       "array([1, 4, 6])"
      ]
     },
     "execution_count": 38,
     "metadata": {},
     "output_type": "execute_result"
    }
   ],
   "source": [
    "# if we want to get multiple elements for example, 1,4 amd 6 and put them into a \n",
    "# one-dimensional array we can enter the indices directly into an array function\n",
    "np.array([a[0,0],a[1,1],a[2,1]])"
   ]
  },
  {
   "cell_type": "code",
   "execution_count": 39,
   "id": "6ca9815b-9787-43ca-b26b-55e695e97781",
   "metadata": {
    "tags": []
   },
   "outputs": [
    {
     "name": "stdout",
     "output_type": "stream",
     "text": [
      "[1 4 6]\n"
     ]
    }
   ],
   "source": [
    "# we can also do that by using another form of array indexing, which essentiall\"zips\"\n",
    "# the first and thesecond list up\n",
    "print(a[[0,1,2], [0,1,1]])"
   ]
  },
  {
   "cell_type": "markdown",
   "id": "b8c4ac0c-b102-4a52-9f46-7d4f19bc155b",
   "metadata": {},
   "source": [
    "## Boolean Indexing ##"
   ]
  },
  {
   "cell_type": "code",
   "execution_count": 40,
   "id": "f57e84a7-c34c-44b1-ad7f-e9d747756185",
   "metadata": {
    "tags": []
   },
   "outputs": [
    {
     "name": "stdout",
     "output_type": "stream",
     "text": [
      "[[False False]\n",
      " [False False]\n",
      " [False  True]]\n"
     ]
    }
   ],
   "source": [
    "# Boolean indexing allows us to select arbitrary elements based on conditions\n",
    "# for example, in the matrix we just talked about we want to find elements that are greater\n",
    "# than 5 so we set up a condition a>5\n",
    "print(a>5)\n",
    "# this returns a boolean array showing that if the value at the corresponding index is greater than 5"
   ]
  },
  {
   "cell_type": "code",
   "execution_count": 41,
   "id": "8c108f8a-51ee-4cbf-9c5f-a225f6577f8d",
   "metadata": {
    "tags": []
   },
   "outputs": [
    {
     "name": "stdout",
     "output_type": "stream",
     "text": [
      "[6]\n"
     ]
    }
   ],
   "source": [
    "# we can then place this array of booleans like a mask over the original array to return\n",
    "# a one-dimensional array relating to the true values\n",
    "print(a[a>5])"
   ]
  },
  {
   "cell_type": "markdown",
   "id": "c3b1b9c9-db46-4d39-834d-aab54804872a",
   "metadata": {},
   "source": [
    "## *Slicing* ##"
   ]
  },
  {
   "cell_type": "code",
   "execution_count": 42,
   "id": "c8d9a7ea-e472-4a77-a5fd-5f8beb1243d2",
   "metadata": {
    "tags": []
   },
   "outputs": [
    {
     "name": "stdout",
     "output_type": "stream",
     "text": [
      "[0 1 2]\n"
     ]
    }
   ],
   "source": [
    "# slicing is away to creat a sub-array based on the original array. For one-dimensional\n",
    "# array, slicing work in similar ways to a list. To slice, we use the \":\" sign. for instance\n",
    "# if we put:3 in the indexing brackets, we get elements from index 0 to index 3 (excluding index 3)\n",
    "a = np.array([0,1,2,3,4,5])\n",
    "print(a[:3])\n"
   ]
  },
  {
   "cell_type": "code",
   "execution_count": 43,
   "id": "38b00757-409f-45a5-89ff-7543384bb930",
   "metadata": {
    "tags": []
   },
   "outputs": [
    {
     "name": "stdout",
     "output_type": "stream",
     "text": [
      "[2 3]\n"
     ]
    }
   ],
   "source": [
    "# by putting 2:4 in the bracket, we get elements from index 2 to index 4(excluding index 4)\n",
    "print(a[2:4])"
   ]
  },
  {
   "cell_type": "code",
   "execution_count": 44,
   "id": "d9dee507-df45-4bee-ab0b-d99140a1937a",
   "metadata": {
    "tags": []
   },
   "outputs": [
    {
     "data": {
      "text/plain": [
       "array([[ 1,  2,  3,  4],\n",
       "       [ 5,  6,  7,  8],\n",
       "       [ 9, 10, 11, 12]])"
      ]
     },
     "execution_count": 44,
     "metadata": {},
     "output_type": "execute_result"
    }
   ],
   "source": [
    "# for multi-dimensional arrays, it works similary, lets see an example\n",
    "a = np.array([[1,2,3,4],[5,6,7,8],[9,10,11,12]])\n",
    "a"
   ]
  },
  {
   "cell_type": "code",
   "execution_count": 45,
   "id": "5a6cb95c-ade2-450e-b0e3-12a1c3dac30b",
   "metadata": {
    "tags": []
   },
   "outputs": [
    {
     "data": {
      "text/plain": [
       "array([[1, 2, 3, 4],\n",
       "       [5, 6, 7, 8]])"
      ]
     },
     "execution_count": 45,
     "metadata": {},
     "output_type": "execute_result"
    }
   ],
   "source": [
    "# first, if we put one argument in the aray, for example a[:2] them we would get all the\n",
    "# elements from the first (0th) and second row (1th)\n",
    "a[:2]"
   ]
  },
  {
   "cell_type": "code",
   "execution_count": 46,
   "id": "cf5c460c-909c-499b-9604-9ace75eefb40",
   "metadata": {
    "tags": []
   },
   "outputs": [
    {
     "data": {
      "text/plain": [
       "array([[2, 3],\n",
       "       [6, 7]])"
      ]
     },
     "execution_count": 46,
     "metadata": {},
     "output_type": "execute_result"
    }
   ],
   "source": [
    "# if we add another argument to the array, for example a[:2,1:3], we get the firt two\n",
    "# rows but then the second and third column values only\n",
    "a[:2,1:3]"
   ]
  },
  {
   "cell_type": "code",
   "execution_count": 47,
   "id": "e16d05c8-f2ca-42a3-be6c-18fd1932fafb",
   "metadata": {},
   "outputs": [],
   "source": [
    "# so, in multidimensional arrays, the first argument is for selecting rows, and the second argument is\n",
    "# for selecting"
   ]
  },
  {
   "cell_type": "code",
   "execution_count": 48,
   "id": "8a8e7621-3a33-493c-a660-e4f7ea33e17a",
   "metadata": {
    "tags": []
   },
   "outputs": [
    {
     "name": "stdout",
     "output_type": "stream",
     "text": [
      "sub array index [0,0] value before change: 2\n",
      "sub array index [0,0] value after change: 50\n",
      "original array index[0,1] value after change: 50\n"
     ]
    }
   ],
   "source": [
    "# it is important to realize that a slice of an array is a view into the same data. This is\n",
    "# called passing by refernce. so modifying the sub array will consequently modify the original array\n",
    "# Here i will change the element at position [0,0], which is 2, to 50, then we can see \n",
    "# the value in the original array is changed to 50 as well\n",
    "\n",
    "sub_array = a[:2,1:3]\n",
    "print(\"sub array index [0,0] value before change:\", sub_array[0,0])\n",
    "sub_array[0,0] = 50\n",
    "print(\"sub array index [0,0] value after change:\", sub_array[0,0])\n",
    "print(\"original array index[0,1] value after change:\", a[0,1])"
   ]
  },
  {
   "cell_type": "code",
   "execution_count": null,
   "id": "6c5db5f6-63d4-42c4-8d9b-626cba172ebc",
   "metadata": {},
   "outputs": [],
   "source": []
  }
 ],
 "metadata": {
  "kernelspec": {
   "display_name": "Python 3 (ipykernel)",
   "language": "python",
   "name": "python3"
  },
  "language_info": {
   "codemirror_mode": {
    "name": "ipython",
    "version": 3
   },
   "file_extension": ".py",
   "mimetype": "text/x-python",
   "name": "python",
   "nbconvert_exporter": "python",
   "pygments_lexer": "ipython3",
   "version": "3.11.5"
  }
 },
 "nbformat": 4,
 "nbformat_minor": 5
}
