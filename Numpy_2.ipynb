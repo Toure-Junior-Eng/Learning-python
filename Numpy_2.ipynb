{
 "cells": [
  {
   "cell_type": "markdown",
   "id": "bf264474-ce8b-43f6-892f-b9f3e00d7eb0",
   "metadata": {},
   "source": [
    "## Manipulating Text with Regular Expressions ##"
   ]
  },
  {
   "cell_type": "markdown",
   "id": "936519e6-3222-414f-9924-3250b94f13ed",
   "metadata": {},
   "source": [
    "**let talk about pattern matching in strings using regular expressions. Regular expressions, or regexes, are written in a condensed formatting language. In general, you can thing of a regular expression as a pattern which you give to a regex (make a filter more specialized) processor with some source data. the processor then parses that source data using that partern, and returns chunks of text back to the data scientist or programmer for further manipulation. There's really three main reasons you would want to do this to check whether a pattern exists within some source data, to get all instances of a complex pattern from some source data, or to clean your source data using pattern generally through string spltting. Regexes are not trivial, but they are a foundational technique for data cleaning in data science application, and a sold understanding of regexs will help you quickly and efficiently manipulate text data for further data science application. Now let see how to apply these patterns to string, and how to use the results of those patterns in data processing** "
   ]
  },
  {
   "cell_type": "code",
   "execution_count": null,
   "id": "4ee26cf3-9534-4894-8c9d-1a830f0b5ba6",
   "metadata": {},
   "outputs": [],
   "source": []
  }
 ],
 "metadata": {
  "kernelspec": {
   "display_name": "Python 3 (ipykernel)",
   "language": "python",
   "name": "python3"
  },
  "language_info": {
   "codemirror_mode": {
    "name": "ipython",
    "version": 3
   },
   "file_extension": ".py",
   "mimetype": "text/x-python",
   "name": "python",
   "nbconvert_exporter": "python",
   "pygments_lexer": "ipython3",
   "version": "3.11.5"
  }
 },
 "nbformat": 4,
 "nbformat_minor": 5
}
