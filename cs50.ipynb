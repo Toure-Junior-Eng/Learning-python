{
 "cells": [
  {
   "cell_type": "markdown",
   "id": "12642d10-0e8e-4b42-a60f-f857041133af",
   "metadata": {},
   "source": [
    "## It turns out in pyhton there is not only: ##\n",
    "Strings\n",
    "intergers\n",
    "Floating\n",
    "booleans\n",
    "dictionnaries\n",
    "lists\n",
    "tuples"
   ]
  },
  {
   "cell_type": "code",
   "execution_count": 4,
   "id": "70a0ef07-2916-4878-b97e-cb54c57de0ea",
   "metadata": {
    "tags": []
   },
   "outputs": [
    {
     "name": "stdin",
     "output_type": "stream",
     "text": [
      "What's your name?  junior toure\n"
     ]
    },
    {
     "name": "stdout",
     "output_type": "stream",
     "text": [
      "hello,Junior Toure\n"
     ]
    }
   ],
   "source": [
    "# ask the user name\n",
    "name = input(\"What's your name? \")\n",
    "\n",
    "# capitalize user's name\n",
    "name =name.capitalize()\n",
    "\n",
    "# Remove whitespace from string(str)\n",
    "name =name.strip()\n",
    "\n",
    "# give the answer in title\n",
    "name= name.title()\n",
    "\n",
    "# say hello to the user\n",
    "print(f\"hello,{name}\")\n"
   ]
  },
  {
   "cell_type": "code",
   "execution_count": 10,
   "id": "fbba3dc9-4576-4172-83ec-c97d1f1269c6",
   "metadata": {
    "tags": []
   },
   "outputs": [
    {
     "name": "stdin",
     "output_type": "stream",
     "text": [
      "what's the value of x? 1\n",
      "what's the value of y? 2\n"
     ]
    },
    {
     "name": "stdout",
     "output_type": "stream",
     "text": [
      "12\n"
     ]
    },
    {
     "name": "stdin",
     "output_type": "stream",
     "text": [
      "what's the value of x? 1\n",
      "what's the value of y? 2\n"
     ]
    },
    {
     "name": "stdout",
     "output_type": "stream",
     "text": [
      "3\n"
     ]
    },
    {
     "name": "stdin",
     "output_type": "stream",
     "text": [
      "what's the value of x? 1\n",
      "what's the value of y? 2\n"
     ]
    },
    {
     "name": "stdout",
     "output_type": "stream",
     "text": [
      "3\n"
     ]
    },
    {
     "name": "stdin",
     "output_type": "stream",
     "text": [
      "what's the value of x? 2.3\n",
      "what's the value of y? 1.3\n"
     ]
    },
    {
     "name": "stdout",
     "output_type": "stream",
     "text": [
      "3.5999999999999996\n"
     ]
    }
   ],
   "source": [
    "# introducing string(str) concatination #meaning the plus sign join the two str not an addition\n",
    "X = input(\"what's the value of x?\")\n",
    "Y = input(\"what's the value of y?\")\n",
    "Z = X+Y\n",
    "print(Z)\n",
    "\n",
    "# convert the str to an interger,note that int is a data type as well as a function\n",
    "X = input(\"what's the value of x?\")\n",
    "Y = input(\"what's the value of y?\")\n",
    "Z = int(X)+int(Y)\n",
    "print(Z)\n",
    "\n",
    "# make the code shorter\n",
    "X = int(input(\"what's the value of x?\"))\n",
    "Y = int(input(\"what's the value of y?\"))\n",
    "print(X+Y)\n",
    "\n",
    "#introducing float data type(decimal numbers)\n",
    "X = float(input(\"what's the value of x?\"))\n",
    "Y = float(input(\"what's the value of y?\"))\n",
    "print(X+Y)"
   ]
  },
  {
   "cell_type": "code",
   "execution_count": 13,
   "id": "45e2a9c2-9ee4-4021-99cb-83f94e2b1528",
   "metadata": {
    "tags": []
   },
   "outputs": [
    {
     "name": "stdin",
     "output_type": "stream",
     "text": [
      "what's the value of x? 1.2\n",
      "what's the value of y? 3.4\n"
     ]
    },
    {
     "name": "stdout",
     "output_type": "stream",
     "text": [
      "5\n"
     ]
    }
   ],
   "source": [
    "#introducing thr round function in python\n",
    "X = float(input(\"what's the value of x?\"))\n",
    "Y = float(input(\"what's the value of y?\"))\n",
    "Z = round(X+Y)\n",
    "print(Z)"
   ]
  },
  {
   "cell_type": "code",
   "execution_count": 19,
   "id": "66f568a8-8b26-4682-b917-72b4a9157d69",
   "metadata": {
    "tags": []
   },
   "outputs": [
    {
     "name": "stdin",
     "output_type": "stream",
     "text": [
      "what's the value of x? 999\n",
      "what's the value of y? 1\n"
     ]
    },
    {
     "name": "stdout",
     "output_type": "stream",
     "text": [
      "1,000\n"
     ]
    }
   ],
   "source": [
    "#introducing thr round function in python\n",
    "X = float(input(\"what's the value of x?\"))\n",
    "Y = float(input(\"what's the value of y?\"))\n",
    "Z = round(X+Y)\n",
    "print(f\"{Z:,}\")"
   ]
  },
  {
   "cell_type": "code",
   "execution_count": 21,
   "id": "a4cd876f-fe38-40ef-9202-f8b0cff1bb0d",
   "metadata": {
    "tags": []
   },
   "outputs": [
    {
     "name": "stdin",
     "output_type": "stream",
     "text": [
      "what's the value of x? 2\n",
      "what's the value of y? 3\n"
     ]
    },
    {
     "name": "stdout",
     "output_type": "stream",
     "text": [
      "0.67\n"
     ]
    }
   ],
   "source": [
    "#introducing thr round function in python\n",
    "X = float(input(\"what's the value of x?\"))\n",
    "Y = float(input(\"what's the value of y?\"))\n",
    "Z = X/Y\n",
    "print(f\"{Z:.2f}\")"
   ]
  },
  {
   "cell_type": "markdown",
   "id": "7847e2cb-9b1e-4e3f-862a-ca36875250cf",
   "metadata": {},
   "source": [
    "**Function In Python**"
   ]
  },
  {
   "cell_type": "code",
   "execution_count": 28,
   "id": "6fb5faf7-b1aa-467a-a7db-2e1b41cb7f0f",
   "metadata": {
    "tags": []
   },
   "outputs": [
    {
     "name": "stdout",
     "output_type": "stream",
     "text": [
      "hello, world\n"
     ]
    },
    {
     "name": "stdin",
     "output_type": "stream",
     "text": [
      "what's your name?  junior\n"
     ]
    },
    {
     "name": "stdout",
     "output_type": "stream",
     "text": [
      "hello, junior\n"
     ]
    }
   ],
   "source": [
    "def hello(to=\"world\"):\n",
    "    print(\"hello,\", to)\n",
    "          \n",
    "hello()\n",
    "name= input(\"what's your name? \")\n",
    "hello(name)\n",
    "    "
   ]
  },
  {
   "cell_type": "code",
   "execution_count": 32,
   "id": "174aaab9-2738-42da-9038-896839cc8439",
   "metadata": {
    "tags": []
   },
   "outputs": [
    {
     "name": "stdout",
     "output_type": "stream",
     "text": [
      "hello, world\n"
     ]
    },
    {
     "name": "stdin",
     "output_type": "stream",
     "text": [
      "what's your name?  junior\n"
     ]
    },
    {
     "name": "stdout",
     "output_type": "stream",
     "text": [
      "hello, junior\n"
     ]
    }
   ],
   "source": [
    "def main():\n",
    "    name= input(\"what's your name? \")\n",
    "    hello(name)\n",
    "\n",
    "def hello(to=\"world\"):\n",
    "    print(\"hello,\", to)\n",
    "    \n",
    "hello()\n",
    "main()"
   ]
  },
  {
   "cell_type": "code",
   "execution_count": 15,
   "id": "1b6716fe-6d35-405d-94d5-117566940f17",
   "metadata": {
    "tags": []
   },
   "outputs": [
    {
     "name": "stdout",
     "output_type": "stream",
     "text": [
      "my name is: Junior\n"
     ]
    }
   ],
   "source": [
    "def intro():\n",
    "    print(\"my name is: Junior\")\n",
    "intro()"
   ]
  },
  {
   "cell_type": "code",
   "execution_count": 19,
   "id": "fa0805dc-99ac-4689-aa19-0f8f84ac8956",
   "metadata": {
    "tags": []
   },
   "outputs": [
    {
     "name": "stdout",
     "output_type": "stream",
     "text": [
      "400\n"
     ]
    }
   ],
   "source": [
    "def squared_number(number):\n",
    "    print(number**2)\n",
    "squared_number(20)"
   ]
  },
  {
   "cell_type": "code",
   "execution_count": 20,
   "id": "5284fd39-d79e-4767-b151-74334346c6b9",
   "metadata": {
    "tags": []
   },
   "outputs": [
    {
     "name": "stdout",
     "output_type": "stream",
     "text": [
      "6103515625\n"
     ]
    }
   ],
   "source": [
    "def square_number(number,power):\n",
    "    print(number**power)\n",
    "square_number(25,7)"
   ]
  },
  {
   "cell_type": "code",
   "execution_count": 33,
   "id": "d8cf1498-eaf4-437d-a7c2-2cc0d7098732",
   "metadata": {
    "tags": []
   },
   "outputs": [
    {
     "name": "stdout",
     "output_type": "stream",
     "text": [
      "13\n",
      "3\n"
     ]
    }
   ],
   "source": [
    "def add_sub(x,y):\n",
    "    c = x+y\n",
    "    b = x-y\n",
    "    return(c,b)\n",
    "result1,result2 = add_sub(8,5)\n",
    "print(result1)\n",
    "print(result2)"
   ]
  },
  {
   "cell_type": "markdown",
   "id": "b5c783ef-c3c5-451c-9796-4611d88f20b5",
   "metadata": {},
   "source": [
    "**Arbitrary function in python**"
   ]
  },
  {
   "cell_type": "code",
   "execution_count": 27,
   "id": "4c414785-3350-4b20-9d01-11709e3f7d78",
   "metadata": {
    "tags": []
   },
   "outputs": [
    {
     "name": "stdout",
     "output_type": "stream",
     "text": [
      "15\n"
     ]
    }
   ],
   "source": [
    "argu_tuple= (5,7,8,3)\n",
    "def numbers_argu(*number):\n",
    "    print(number[0]*number[3])\n",
    "numbers_argu(*argu_tuple)"
   ]
  },
  {
   "cell_type": "markdown",
   "id": "8b9c9233-224e-4f4e-b7e9-16d3a3cdea19",
   "metadata": {},
   "source": [
    "**keywords argument in function**"
   ]
  },
  {
   "cell_type": "code",
   "execution_count": 25,
   "id": "446c1bb7-5458-4fb4-9d0a-c0bc2d55fa70",
   "metadata": {
    "tags": []
   },
   "outputs": [
    {
     "name": "stdout",
     "output_type": "stream",
     "text": [
      "243\n"
     ]
    }
   ],
   "source": [
    "#give you the ability to inverse the order of the argument\n",
    "def square_number(number,power):\n",
    "    print(number**power)\n",
    "square_number(power=5,number=3)"
   ]
  },
  {
   "cell_type": "markdown",
   "id": "98fe79d9-4809-4add-b891-814eceb61088",
   "metadata": {},
   "source": [
    "**Conditional in python**"
   ]
  },
  {
   "cell_type": "code",
   "execution_count": 35,
   "id": "6f7e5d56-79c0-47c8-9bb4-a8c423766036",
   "metadata": {
    "tags": []
   },
   "outputs": [
    {
     "name": "stdin",
     "output_type": "stream",
     "text": [
      "what's the value of x? 5\n",
      "what's the value of y? 5\n"
     ]
    },
    {
     "name": "stdout",
     "output_type": "stream",
     "text": [
      "x egal to y\n"
     ]
    }
   ],
   "source": [
    "x = int(input(\"what's the value of x?\"))\n",
    "y = int(input(\"what's the value of y?\"))\n",
    "if x > y:\n",
    "    print(\"x is greater than y\")\n",
    "elif x < y:\n",
    "    print(\"x is less than y\")\n",
    "else:\n",
    "    print(\"x is egal to y\")"
   ]
  },
  {
   "cell_type": "code",
   "execution_count": 36,
   "id": "f70aee93-38f7-401d-a7c3-696ce1d8b656",
   "metadata": {
    "tags": []
   },
   "outputs": [
    {
     "name": "stdin",
     "output_type": "stream",
     "text": [
      "what's the value of x? 8\n",
      "what's the value of y? 5\n"
     ]
    },
    {
     "name": "stdout",
     "output_type": "stream",
     "text": [
      "x is not equal to y\n"
     ]
    }
   ],
   "source": [
    "#or operator\n",
    "x = int(input(\"what's the value of x?\"))\n",
    "y = int(input(\"what's the value of y?\"))\n",
    "if x > y or x < y:\n",
    "    print(\"x is not equal to y\")\n",
    "else:\n",
    "    print(\"x is equal to y\")"
   ]
  },
  {
   "cell_type": "code",
   "execution_count": 40,
   "id": "54a41277-1000-48c1-9c60-92f1fe62cc6b",
   "metadata": {
    "tags": []
   },
   "outputs": [
    {
     "name": "stdin",
     "output_type": "stream",
     "text": [
      "what's the value of x? 5\n",
      "what's the value of y? 9\n"
     ]
    },
    {
     "name": "stdout",
     "output_type": "stream",
     "text": [
      "x is not equal to y\n"
     ]
    }
   ],
   "source": [
    "x = int(input(\"what's the value of x?\"))\n",
    "y = int(input(\"what's the value of y?\"))\n",
    "if x != y:\n",
    "    print(\"x is not equal to y\")\n",
    "else:\n",
    "    print(\"x is equal to y\")"
   ]
  },
  {
   "cell_type": "code",
   "execution_count": 43,
   "id": "4419068c-3cd8-412f-b970-2a1b046104c7",
   "metadata": {
    "tags": []
   },
   "outputs": [
    {
     "name": "stdin",
     "output_type": "stream",
     "text": [
      "Score=  6\n"
     ]
    },
    {
     "name": "stdout",
     "output_type": "stream",
     "text": [
      "student score: F\n"
     ]
    }
   ],
   "source": [
    "#and operator\n",
    "\n",
    "score = int(input(\"Score= \"))\n",
    "if score >= 90 and score <= 100:\n",
    "    print(\"student Grade: A\")\n",
    "elif score >= 80 and score < 90:\n",
    "    print(\"student Grade: B\")\n",
    "elif score >= 70 and score < 80:\n",
    "    print(\"student Grade: C\")\n",
    "elif score >=60 and score < 70:\n",
    "    print(\"studend Grade: D\")\n",
    "else:\n",
    "    print(\"student score: F\")"
   ]
  },
  {
   "cell_type": "code",
   "execution_count": 46,
   "id": "26487dbf-cff2-4182-a034-21072c98d8b4",
   "metadata": {
    "tags": []
   },
   "outputs": [
    {
     "name": "stdin",
     "output_type": "stream",
     "text": [
      "Score=  55\n"
     ]
    },
    {
     "name": "stdout",
     "output_type": "stream",
     "text": [
      "student score: F\n"
     ]
    }
   ],
   "source": [
    "score = int(input(\"Score= \"))\n",
    "if 90 <= score and score <= 100:\n",
    "    print(\"student Grade: A\")\n",
    "elif 80 <=score  and score < 90:\n",
    "    print(\"student Grade: B\")\n",
    "elif 70 <= score and score < 80:\n",
    "    print(\"student Grade: C\")\n",
    "elif 60 <= score and score < 70:\n",
    "    print(\"studend Grade: D\")\n",
    "else:\n",
    "    print(\"student score: F\")"
   ]
  },
  {
   "cell_type": "code",
   "execution_count": 48,
   "id": "fcd36861-0725-4710-89f3-d95a5e488589",
   "metadata": {
    "tags": []
   },
   "outputs": [
    {
     "name": "stdin",
     "output_type": "stream",
     "text": [
      "Score=  76\n"
     ]
    },
    {
     "name": "stdout",
     "output_type": "stream",
     "text": [
      "student Grade: C\n"
     ]
    }
   ],
   "source": [
    "# let make this code short using Nested\n",
    "\n",
    "score = int(input(\"Score= \"))\n",
    "if 90 <= score <= 100:\n",
    "    print(\"student Grade: A\")\n",
    "elif 80 <= score < 90:\n",
    "    print(\"student Grade: B\")\n",
    "elif 70 <= score < 80:\n",
    "    print(\"student Grade: C\")\n",
    "elif 60 <= score < 70:\n",
    "    print(\"studend Grade: D\")\n",
    "else:\n",
    "    print(\"student score: F\")"
   ]
  },
  {
   "cell_type": "code",
   "execution_count": 52,
   "id": "419a52e7-e7f2-4c9a-ac73-784b3fb9f91b",
   "metadata": {
    "tags": []
   },
   "outputs": [
    {
     "name": "stdin",
     "output_type": "stream",
     "text": [
      "Score=  89\n"
     ]
    },
    {
     "name": "stdout",
     "output_type": "stream",
     "text": [
      "student Grade: B\n"
     ]
    }
   ],
   "source": [
    "score = int(input(\"Score= \"))\n",
    "if score >= 90:\n",
    "    print(\"student Grade: A\")\n",
    "elif score >= 80:\n",
    "    print(\"student Grade: B\")\n",
    "elif score >= 70:\n",
    "    print(\"student Grade: C\")\n",
    "elif score >=60:\n",
    "    print(\"studend Grade: D\")\n",
    "else:\n",
    "    print(\"student score: F\")"
   ]
  },
  {
   "cell_type": "code",
   "execution_count": 58,
   "id": "44951f87-f992-4d9f-b05b-d1fcf2a9c77a",
   "metadata": {
    "tags": []
   },
   "outputs": [
    {
     "name": "stdin",
     "output_type": "stream",
     "text": [
      "what's x?  4\n"
     ]
    },
    {
     "name": "stdout",
     "output_type": "stream",
     "text": [
      "x is Even\n"
     ]
    }
   ],
   "source": [
    "#cheking parity by using % reminder.\n",
    "x = int(input(\"what's x? \"))\n",
    "if x % 2 == 0:\n",
    "    print(\"x is Even\")\n",
    "else:\n",
    "    print(\"x is Odd\")"
   ]
  },
  {
   "cell_type": "code",
   "execution_count": 60,
   "id": "27155fda-4f37-4505-a746-6917e62af877",
   "metadata": {
    "tags": []
   },
   "outputs": [
    {
     "name": "stdin",
     "output_type": "stream",
     "text": [
      "what's x?  8\n"
     ]
    },
    {
     "name": "stdout",
     "output_type": "stream",
     "text": [
      "Even\n"
     ]
    }
   ],
   "source": [
    "# let define a function to make the work easier\n",
    "def main():\n",
    "    x = int(input(\"what's x? \"))\n",
    "    if is_even(x):\n",
    "        print(\"Even\")\n",
    "    else:\n",
    "        print(\"Odd\")\n",
    "def is_even(n):\n",
    "    if n % 2 ==0:\n",
    "        return True\n",
    "    else:\n",
    "        return False\n",
    "main()          \n",
    "     "
   ]
  },
  {
   "cell_type": "code",
   "execution_count": 61,
   "id": "a8952ad0-4e2f-4ce8-bdc7-0f549682bcb2",
   "metadata": {
    "tags": []
   },
   "outputs": [
    {
     "name": "stdin",
     "output_type": "stream",
     "text": [
      "what's x?  9\n"
     ]
    },
    {
     "name": "stdout",
     "output_type": "stream",
     "text": [
      "Odd\n"
     ]
    }
   ],
   "source": [
    "# let make the condition short\n",
    "def main():\n",
    "    x = int(input(\"what's x? \"))\n",
    "    if is_even(x):\n",
    "        print(\"Even\")\n",
    "    else:\n",
    "        print(\"Odd\")\n",
    "def is_even(n):\n",
    "    return True if n % 2 ==0 else False\n",
    "main()"
   ]
  },
  {
   "cell_type": "code",
   "execution_count": 62,
   "id": "9af437aa-799d-41a3-94ff-5edc98197b36",
   "metadata": {
    "tags": []
   },
   "outputs": [
    {
     "name": "stdin",
     "output_type": "stream",
     "text": [
      "what's x?  8\n"
     ]
    },
    {
     "name": "stdout",
     "output_type": "stream",
     "text": [
      "Even\n"
     ]
    }
   ],
   "source": [
    "# let make the condition shorter\n",
    "def main():\n",
    "    x = int(input(\"what's x? \"))\n",
    "    if is_even(x):\n",
    "        print(\"Even\")\n",
    "    else:\n",
    "        print(\"Odd\")\n",
    "def is_even(n):\n",
    "    return  n % 2 ==0 \n",
    "main()"
   ]
  },
  {
   "cell_type": "code",
   "execution_count": 3,
   "id": "f8369a12-7772-496d-ab10-53214c18dad7",
   "metadata": {},
   "outputs": [
    {
     "name": "stdin",
     "output_type": "stream",
     "text": [
      "what's your name Harry\n"
     ]
    },
    {
     "name": "stdout",
     "output_type": "stream",
     "text": [
      "Abidjan\n"
     ]
    }
   ],
   "source": [
    "# Introducing Match\n",
    "name = input (\"what's your name\")\n",
    "match name:\n",
    "    case \"Harry\":\n",
    "        print(\"Abidjan\")\n",
    "    case \"Hermione\":\n",
    "        print(\"San-Pedro\")\n",
    "    case \"Junior\":\n",
    "        print(\"Bouake\")\n",
    "    case \"Draco\":\n",
    "        print(\"Chandigarh\")\n",
    "    case _:\n",
    "        print(\"Who?\")"
   ]
  },
  {
   "cell_type": "code",
   "execution_count": 4,
   "id": "9d0fed06-496b-4884-ab7f-7be820f76d46",
   "metadata": {
    "tags": []
   },
   "outputs": [
    {
     "name": "stdin",
     "output_type": "stream",
     "text": [
      "what's your name Draco\n"
     ]
    },
    {
     "name": "stdout",
     "output_type": "stream",
     "text": [
      "Bouake\n"
     ]
    }
   ],
   "source": [
    "# Introducing Match improve\n",
    "name = input (\"what's your name\")\n",
    "match name:\n",
    "    case \"Harry\" | \"Ron\" | \"Junior\":\n",
    "        print(\"Abidjan\")\n",
    "    case \"Draco\":\n",
    "        print(\"Bouake\")\n",
    "    case _:\n",
    "        print(\"Who?\")"
   ]
  },
  {
   "cell_type": "markdown",
   "id": "76829d0f-d65e-4d05-a97d-00da63ed9c43",
   "metadata": {},
   "source": [
    "## Loops : ability in python and others programming language to do something again and again in the cyclique way"
   ]
  },
  {
   "cell_type": "markdown",
   "id": "627a6a30-0254-433c-94de-4e9132a22177",
   "metadata": {},
   "source": [
    "Introducting \"While loops\""
   ]
  },
  {
   "cell_type": "code",
   "execution_count": 1,
   "id": "b891f178-403d-4433-bf7f-9944ea5a7643",
   "metadata": {},
   "outputs": [
    {
     "name": "stdout",
     "output_type": "stream",
     "text": [
      "meow\n",
      "meow\n",
      "meow\n"
     ]
    }
   ],
   "source": [
    "i= 3\n",
    "while i != 0:\n",
    "    print(\"meow\")\n",
    "    i = i - 1"
   ]
  },
  {
   "cell_type": "code",
   "execution_count": 2,
   "id": "be64bc88-9214-4ee0-bb14-75ca06003fce",
   "metadata": {},
   "outputs": [
    {
     "name": "stdout",
     "output_type": "stream",
     "text": [
      "meow\n",
      "meow\n",
      "meow\n"
     ]
    }
   ],
   "source": [
    "i= 0\n",
    "while i < 3:\n",
    "    print(\"meow\")\n",
    "    i = i + 1"
   ]
  },
  {
   "cell_type": "code",
   "execution_count": 3,
   "id": "1076840d-4e6c-492b-8f92-36583afca1c6",
   "metadata": {
    "tags": []
   },
   "outputs": [
    {
     "name": "stdout",
     "output_type": "stream",
     "text": [
      "meow\n",
      "meow\n",
      "meow\n"
     ]
    }
   ],
   "source": [
    "i= 0\n",
    "while i < 3:\n",
    "    print(\"meow\")\n",
    "    i += 1"
   ]
  },
  {
   "cell_type": "markdown",
   "id": "62ee5a32-e337-41ba-9e80-f54fa232500f",
   "metadata": {},
   "source": [
    "Introducting \"For loops\"\n",
    "for loops allow you u to iterate over a list of items."
   ]
  },
  {
   "cell_type": "code",
   "execution_count": 10,
   "id": "558b3f45-ce1a-4f49-857b-639051148d47",
   "metadata": {
    "tags": []
   },
   "outputs": [
    {
     "name": "stdout",
     "output_type": "stream",
     "text": [
      "meow\n",
      "meow\n",
      "meow\n"
     ]
    }
   ],
   "source": [
    "# list is a container of multiple variable all in one place\n",
    "\n",
    "#for i in [0,1,2]:\n",
    "#    print(\"meow\")\n",
    "\n",
    "#The better way to write the same code is to call the inbult func called \"range\"\n",
    "# bcz range has the effect of doing the same thing \n",
    "#therefore u dont ave te write manually all the component in ur list\n",
    "\n",
    "for i in range(3):\n",
    "    print(\"meow\")"
   ]
  },
  {
   "cell_type": "code",
   "execution_count": 13,
   "id": "048201ed-0a11-4229-a08f-50a0f3ae12b4",
   "metadata": {
    "tags": []
   },
   "outputs": [
    {
     "name": "stdout",
     "output_type": "stream",
     "text": [
      "meow\n",
      "meow\n",
      "meow\n"
     ]
    }
   ],
   "source": [
    "print(\"meow\\n\"*3, end=\"\") #(\\n) mean creat new ligne; (end=\"\")used to avoid blank ligne"
   ]
  },
  {
   "cell_type": "code",
   "execution_count": 19,
   "id": "2ea61101-49f4-46a2-81ac-cfca9331c404",
   "metadata": {
    "tags": []
   },
   "outputs": [
    {
     "name": "stdin",
     "output_type": "stream",
     "text": [
      "what's n? 5\n"
     ]
    },
    {
     "name": "stdout",
     "output_type": "stream",
     "text": [
      "meow\n",
      "meow\n",
      "meow\n",
      "meow\n",
      "meow\n"
     ]
    }
   ],
   "source": [
    "while True:\n",
    "    n = int(input(\"what's n?\"))\n",
    "    if n > 0:\n",
    "        break\n",
    "for _ in range(n):\n",
    "    print(\"meow\")"
   ]
  },
  {
   "cell_type": "code",
   "execution_count": 33,
   "id": "0ecd99dd-ba7e-4c65-9d85-4db2e772c4ea",
   "metadata": {
    "tags": []
   },
   "outputs": [
    {
     "name": "stdin",
     "output_type": "stream",
     "text": [
      "what's n?  4\n"
     ]
    },
    {
     "name": "stdout",
     "output_type": "stream",
     "text": [
      "Meow\n",
      "Meow\n",
      "Meow\n",
      "Meow\n"
     ]
    }
   ],
   "source": [
    "def main():\n",
    "    number = get_number()\n",
    "    meow(number)\n",
    "    \n",
    "def get_number():\n",
    "    while True:\n",
    "        n = int(input(\"what's n? \"))\n",
    "        if n > 0:\n",
    "            return n  # Move the return statement inside the loop\n",
    "        else:\n",
    "            print(\"Please enter a positive number.\")\n",
    "    \n",
    "def meow(n):\n",
    "    for _ in range(n):\n",
    "        print(\"Meow\")\n",
    "\n",
    "main()  # Call the main function to start the program\n"
   ]
  },
  {
   "cell_type": "code",
   "execution_count": 36,
   "id": "0508b738-a128-4247-96f9-0ce8b9636b53",
   "metadata": {
    "tags": []
   },
   "outputs": [
    {
     "name": "stdout",
     "output_type": "stream",
     "text": [
      "Hermonie\n",
      "Harry\n",
      "Ron\n"
     ]
    }
   ],
   "source": [
    "students = [\"Hermonie\",\"Harry\",\"Ron\"]\n",
    "print(students[0])\n",
    "print(students[1])\n",
    "print(students[2])"
   ]
  },
  {
   "cell_type": "code",
   "execution_count": 39,
   "id": "6f548c33-576d-443d-8ef0-bf48d85fe204",
   "metadata": {
    "tags": []
   },
   "outputs": [
    {
     "name": "stdout",
     "output_type": "stream",
     "text": [
      "Hermonie\n",
      "Harry\n",
      "Ron\n"
     ]
    }
   ],
   "source": [
    "#let improve the same code by using a loop\n",
    "\n",
    "students = [\"Hermonie\",\"Harry\",\"Ron\"]\n",
    "for student in students:\n",
    "    print(student)"
   ]
  },
  {
   "cell_type": "code",
   "execution_count": 45,
   "id": "3c8315b8-9554-4c3d-84ee-3ffe37b12ec5",
   "metadata": {
    "tags": []
   },
   "outputs": [
    {
     "name": "stdout",
     "output_type": "stream",
     "text": [
      "Hermonie\n",
      "Harry\n",
      "Ron\n",
      "0 Hermonie\n",
      "1 Harry\n",
      "2 Ron\n",
      "1 Hermonie\n",
      "2 Harry\n",
      "3 Ron\n"
     ]
    }
   ],
   "source": [
    "# let use length[len] whose perpose is to give the length of a list, then in list to call out index\n",
    "\n",
    "students = [\"Hermonie\",\"Harry\",\"Ron\"]\n",
    "for i in range(len(students)):\n",
    "               print(students[i])\n",
    "\n",
    "# we use [i] to call the index number in term of classification\n",
    "\n",
    "students = [\"Hermonie\",\"Harry\",\"Ron\"]\n",
    "for i in range(len(students)):\n",
    "               print(i,students[i])\n",
    "        \n",
    "# we then added 1 to make the classification start at one for the seek of aesthetic      \n",
    "students = [\"Hermonie\",\"Harry\",\"Ron\"]\n",
    "for i in range(len(students)):\n",
    "               print(i+1, students[i])"
   ]
  },
  {
   "cell_type": "code",
   "execution_count": 50,
   "id": "f56017f3-b190-4edd-9be4-222450fe04c0",
   "metadata": {
    "tags": []
   },
   "outputs": [
    {
     "name": "stdout",
     "output_type": "stream",
     "text": [
      "Junior\n",
      "Toure\n",
      "Daouda\n",
      "Lancine\n"
     ]
    }
   ],
   "source": [
    "# dictionaries (dic) are data structures that allows u to associate one value with another\n",
    "# dics = keys,values\n",
    "\n",
    "students = [\"Hermonie\",\"Harry\",\"Ron\",\"Draco\"]\n",
    "houses = [\"Junior\",\"Toure\",\"Daouda\",\"Lancine\"]\n",
    "\n",
    "# creating of the dic\n",
    "\n",
    "students = {\"Hermonie\":\"Junior\"\n",
    "            ,\"Harry\":\"Toure\"\n",
    "            ,\"Ron\":\"Daouda\",\n",
    "            \"Draco\":\"Lancine\"}\n",
    "\n",
    "print(students[\"Hermonie\"])\n",
    "print(students[\"Harry\"])\n",
    "print(students[\"Ron\"])\n",
    "print(students[\"Draco\"])"
   ]
  },
  {
   "cell_type": "code",
   "execution_count": 51,
   "id": "c8de3694-543e-4b68-aab3-165fdfbbcdfe",
   "metadata": {
    "tags": []
   },
   "outputs": [
    {
     "name": "stdout",
     "output_type": "stream",
     "text": [
      "Hermonie\n",
      "Harry\n",
      "Ron\n",
      "Draco\n"
     ]
    }
   ],
   "source": [
    "students = {\"Hermonie\":\"Junior\"\n",
    "            ,\"Harry\":\"Toure\"\n",
    "            ,\"Ron\":\"Daouda\",\n",
    "            \"Draco\":\"Lancine\"}\n",
    "for student in students:\n",
    "    print(student)"
   ]
  },
  {
   "cell_type": "code",
   "execution_count": 54,
   "id": "e28be08e-9769-4441-a1aa-143b94491d2d",
   "metadata": {
    "tags": []
   },
   "outputs": [
    {
     "name": "stdout",
     "output_type": "stream",
     "text": [
      "Hermonie , Junior\n",
      "Harry , Toure\n",
      "Ron , Daouda\n",
      "Draco , Lancine\n"
     ]
    }
   ],
   "source": [
    "students = {\"Hermonie\":\"Junior\"\n",
    "            ,\"Harry\":\"Toure\"\n",
    "            ,\"Ron\":\"Daouda\",\n",
    "            \"Draco\":\"Lancine\"}\n",
    "for student in students:\n",
    "    print(student, students[student], sep=\" , \")"
   ]
  },
  {
   "cell_type": "code",
   "execution_count": 55,
   "id": "c05fda19-1a2a-43a7-920c-2b697d30fd06",
   "metadata": {
    "tags": []
   },
   "outputs": [
    {
     "name": "stdout",
     "output_type": "stream",
     "text": [
      "Hermonie , Gry , Otter\n",
      "Harry , Gry , Stag\n",
      "Ron , Gry , Jack\n",
      "Draco , Sylv , None\n"
     ]
    }
   ],
   "source": [
    "# in case we have multiple information \n",
    "students = [ {\"name\":\"Hermonie\",\"house\":\"Gry\",\"Patronus\":\"Otter\"},\n",
    "            \n",
    "            {\"name\":\"Harry\",\"house\":\"Gry\",\"Patronus\":\"Stag\"},\n",
    "            {\"name\":\"Ron\",\"house\":\"Gry\",\"Patronus\":\"Jack\"},\n",
    "            {\"name\":\"Draco\",\"house\":\"Sylv\",\"Patronus\":None}\n",
    "]\n",
    "\n",
    "for student in students:\n",
    "    print(student[\"name\"], student[\"house\"], student [\"Patronus\"], sep = \" , \")"
   ]
  },
  {
   "cell_type": "code",
   "execution_count": 56,
   "id": "34c4f95c-290e-4ee6-9db3-c582d60499a4",
   "metadata": {
    "tags": []
   },
   "outputs": [
    {
     "name": "stdout",
     "output_type": "stream",
     "text": [
      "###\n",
      "###\n",
      "###\n"
     ]
    }
   ],
   "source": [
    "def main():\n",
    "    print_square(3)\n",
    "    \n",
    "def print_square(size):\n",
    "    \n",
    "    # for each row in square\n",
    "    for i in range(size):\n",
    "        \n",
    "        # for each brick in row\n",
    "        for j in range(size):\n",
    "            \n",
    "            # print brick\n",
    "            print(\"#\", end=\"\")\n",
    "        print()\n",
    "\n",
    "        \n",
    "main()"
   ]
  },
  {
   "cell_type": "code",
   "execution_count": 57,
   "id": "da28204c-346e-4c0b-8a4a-cde7c32126a2",
   "metadata": {
    "tags": []
   },
   "outputs": [
    {
     "name": "stdout",
     "output_type": "stream",
     "text": [
      "###\n",
      "###\n",
      "###\n"
     ]
    }
   ],
   "source": [
    "def main():\n",
    "    print_square(3)\n",
    "    \n",
    "def print_square(size):\n",
    "    \n",
    "    for i in range(size):\n",
    "        print(\"#\" * size)\n",
    "        \n",
    "       \n",
    "\n",
    "        \n",
    "main()"
   ]
  },
  {
   "cell_type": "code",
   "execution_count": 58,
   "id": "88d9b79b-cd1a-4ee2-a09f-4ac8eed8c596",
   "metadata": {
    "tags": []
   },
   "outputs": [
    {
     "name": "stdout",
     "output_type": "stream",
     "text": [
      "###\n",
      "###\n",
      "###\n"
     ]
    }
   ],
   "source": [
    "def main():\n",
    "    print_square(3)\n",
    "    \n",
    "def print_square(size):\n",
    "    \n",
    "    for i in range(size):\n",
    "        print_row(size)\n",
    "def print_row(width):\n",
    "    print(\"#\" * width)\n",
    "        \n",
    "       \n",
    "        \n",
    "main()"
   ]
  },
  {
   "cell_type": "markdown",
   "id": "59103ed8-bef3-4b12-a1ae-f6931d77e128",
   "metadata": {},
   "source": [
    "## Exeption refer to problem in your code"
   ]
  },
  {
   "cell_type": "code",
   "execution_count": 59,
   "id": "d61ba6a7-7363-4916-ab6b-c841f3627581",
   "metadata": {
    "tags": []
   },
   "outputs": [
    {
     "name": "stdin",
     "output_type": "stream",
     "text": [
      "what't x? cat\n"
     ]
    },
    {
     "name": "stdout",
     "output_type": "stream",
     "text": [
      "x is not an integer\n"
     ]
    }
   ],
   "source": [
    "try:\n",
    "    x = int(input(\"what't x?\"))\n",
    "    print(f\"x is {x}\")\n",
    "except ValueError:\n",
    "    print(\"x is not an integer\")"
   ]
  },
  {
   "cell_type": "code",
   "execution_count": 61,
   "id": "ebd32064-da81-4d5f-ac29-9fc381a3a566",
   "metadata": {
    "tags": []
   },
   "outputs": [
    {
     "name": "stdin",
     "output_type": "stream",
     "text": [
      "what't x? dog\n"
     ]
    },
    {
     "name": "stdout",
     "output_type": "stream",
     "text": [
      "x is not an integer\n"
     ]
    }
   ],
   "source": [
    "try:\n",
    "    x = int(input(\"what't x?\"))\n",
    "except ValueError:\n",
    "    print(\"x is not an integer\")\n",
    "else:\n",
    "    print(f\"x is {x}\")"
   ]
  },
  {
   "cell_type": "code",
   "execution_count": null,
   "id": "8fe3bf57-a4dd-4b3c-b6bf-f775eacfa21c",
   "metadata": {},
   "outputs": [],
   "source": []
  }
 ],
 "metadata": {
  "kernelspec": {
   "display_name": "Python 3 (ipykernel)",
   "language": "python",
   "name": "python3"
  },
  "language_info": {
   "codemirror_mode": {
    "name": "ipython",
    "version": 3
   },
   "file_extension": ".py",
   "mimetype": "text/x-python",
   "name": "python",
   "nbconvert_exporter": "python",
   "pygments_lexer": "ipython3",
   "version": "3.11.5"
  }
 },
 "nbformat": 4,
 "nbformat_minor": 5
}
